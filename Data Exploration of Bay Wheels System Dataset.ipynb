{
 "cells": [
  {
   "cell_type": "markdown",
   "metadata": {},
   "source": [
    "# Data Exploration of Bay Wheels System Dataset\n",
    "## by Naomi Nemeth\n",
    "\n",
    "## Preliminary Wrangling\n",
    "\n",
    "> This dataset consists in a set of information about individual rides made in a bike-sharing system around the area of San Francisco city. \n",
    "The goal for Bay Wheels is offering a fun and economical way of going through the city for two blocks or 2 miles. About this system, Bay Wheels (previously Ford GoBike), is a bike-sharing system with different types of subscriptions: you can ride just one time, for a day or have unlimited rides, of course with different pricing for each subscription. They have lots of bicycle types, even electric ones, to attend every consumer needs. "
   ]
  },
  {
   "cell_type": "markdown",
   "metadata": {},
   "source": [
    "## Introduction\n",
    "\n",
    "In this project, we aimed to analyze the dataset from Bay Wheels to **understand or at least find some insights about the consumer behaviour in the bay area**. The Bay Wheels shares all the data from each ride in their website (you can find it here: https://www.lyft.com/bikes/bay-wheels/system-data ), for this project we are going to focus on the data from 2017's last semester. It's large amount of data almost 520k rows with 15 columns (variables). \n",
    "\n",
    "In order to achieve our goal, this analysis will be guided by the following points:\n",
    "    - When are most trips taken in terms of day of week?\n",
    "    - How long does the average trips takes? Does it changes over the weekday?\n",
    "    - Does the above depend on if a user is a subscriber or a customer? Do they have a different habit behaviour?"
   ]
  },
  {
   "cell_type": "code",
   "execution_count": 1,
   "metadata": {
    "ExecuteTime": {
     "end_time": "2019-09-03T19:34:42.555218Z",
     "start_time": "2019-09-03T19:34:41.524123Z"
    }
   },
   "outputs": [],
   "source": [
    "# import all packages and set plots to be embedded inline\n",
    "import numpy as np\n",
    "import pandas as pd\n",
    "import matplotlib.pyplot as plt\n",
    "import seaborn as sb\n",
    "\n",
    "%matplotlib inline"
   ]
  },
  {
   "cell_type": "code",
   "execution_count": 2,
   "metadata": {
    "ExecuteTime": {
     "end_time": "2019-09-03T19:34:43.951744Z",
     "start_time": "2019-09-03T19:34:42.559136Z"
    }
   },
   "outputs": [],
   "source": [
    "df = pd.read_csv('2017-fordgobike-tripdata.csv')"
   ]
  },
  {
   "cell_type": "code",
   "execution_count": 3,
   "metadata": {
    "ExecuteTime": {
     "end_time": "2019-09-03T19:34:43.989642Z",
     "start_time": "2019-09-03T19:34:43.952741Z"
    }
   },
   "outputs": [
    {
     "data": {
      "text/plain": [
       "(519700, 15)"
      ]
     },
     "execution_count": 3,
     "metadata": {},
     "output_type": "execute_result"
    }
   ],
   "source": [
    "df.shape"
   ]
  },
  {
   "cell_type": "code",
   "execution_count": 4,
   "metadata": {
    "ExecuteTime": {
     "end_time": "2019-09-03T19:34:44.292781Z",
     "start_time": "2019-09-03T19:34:43.991638Z"
    }
   },
   "outputs": [
    {
     "name": "stdout",
     "output_type": "stream",
     "text": [
      "<class 'pandas.core.frame.DataFrame'>\n",
      "RangeIndex: 519700 entries, 0 to 519699\n",
      "Data columns (total 15 columns):\n",
      "duration_sec               519700 non-null int64\n",
      "start_time                 519700 non-null object\n",
      "end_time                   519700 non-null object\n",
      "start_station_id           519700 non-null int64\n",
      "start_station_name         519700 non-null object\n",
      "start_station_latitude     519700 non-null float64\n",
      "start_station_longitude    519700 non-null float64\n",
      "end_station_id             519700 non-null int64\n",
      "end_station_name           519700 non-null object\n",
      "end_station_latitude       519700 non-null float64\n",
      "end_station_longitude      519700 non-null float64\n",
      "bike_id                    519700 non-null int64\n",
      "user_type                  519700 non-null object\n",
      "member_birth_year          453159 non-null float64\n",
      "member_gender              453238 non-null object\n",
      "dtypes: float64(5), int64(4), object(6)\n",
      "memory usage: 59.5+ MB\n"
     ]
    }
   ],
   "source": [
    "# start_time and end_time - needs to be datetime and from these columns: day, day of week and month\n",
    "# treat null values from member_birth_year and member_gender\n",
    "\n",
    "df.info()"
   ]
  },
  {
   "cell_type": "markdown",
   "metadata": {},
   "source": [
    "### What is the structure of your dataset?\n",
    "\n",
    "> Dataset has a significant size 519700 rows and 15 columns. It doesn't have lots of null values, only on columns `member_birth_year`and `member_gender`. It has some tidiness and quality issues to be treated, but it nothing to messy. "
   ]
  },
  {
   "cell_type": "code",
   "execution_count": 5,
   "metadata": {
    "ExecuteTime": {
     "end_time": "2019-09-03T19:34:44.309736Z",
     "start_time": "2019-09-03T19:34:44.293778Z"
    },
    "scrolled": true
   },
   "outputs": [
    {
     "data": {
      "text/html": [
       "<div>\n",
       "<style scoped>\n",
       "    .dataframe tbody tr th:only-of-type {\n",
       "        vertical-align: middle;\n",
       "    }\n",
       "\n",
       "    .dataframe tbody tr th {\n",
       "        vertical-align: top;\n",
       "    }\n",
       "\n",
       "    .dataframe thead th {\n",
       "        text-align: right;\n",
       "    }\n",
       "</style>\n",
       "<table border=\"1\" class=\"dataframe\">\n",
       "  <thead>\n",
       "    <tr style=\"text-align: right;\">\n",
       "      <th></th>\n",
       "      <th>duration_sec</th>\n",
       "      <th>start_time</th>\n",
       "      <th>end_time</th>\n",
       "      <th>start_station_id</th>\n",
       "      <th>start_station_name</th>\n",
       "      <th>start_station_latitude</th>\n",
       "      <th>start_station_longitude</th>\n",
       "      <th>end_station_id</th>\n",
       "      <th>end_station_name</th>\n",
       "      <th>end_station_latitude</th>\n",
       "      <th>end_station_longitude</th>\n",
       "      <th>bike_id</th>\n",
       "      <th>user_type</th>\n",
       "      <th>member_birth_year</th>\n",
       "      <th>member_gender</th>\n",
       "    </tr>\n",
       "  </thead>\n",
       "  <tbody>\n",
       "    <tr>\n",
       "      <td>0</td>\n",
       "      <td>80110</td>\n",
       "      <td>2017-12-31 16:57:39.6540</td>\n",
       "      <td>2018-01-01 15:12:50.2450</td>\n",
       "      <td>74</td>\n",
       "      <td>Laguna St at Hayes St</td>\n",
       "      <td>37.776435</td>\n",
       "      <td>-122.426244</td>\n",
       "      <td>43</td>\n",
       "      <td>San Francisco Public Library (Grove St at Hyde...</td>\n",
       "      <td>37.778768</td>\n",
       "      <td>-122.415929</td>\n",
       "      <td>96</td>\n",
       "      <td>Customer</td>\n",
       "      <td>1987.0</td>\n",
       "      <td>Male</td>\n",
       "    </tr>\n",
       "    <tr>\n",
       "      <td>1</td>\n",
       "      <td>78800</td>\n",
       "      <td>2017-12-31 15:56:34.8420</td>\n",
       "      <td>2018-01-01 13:49:55.6170</td>\n",
       "      <td>284</td>\n",
       "      <td>Yerba Buena Center for the Arts (Howard St at ...</td>\n",
       "      <td>37.784872</td>\n",
       "      <td>-122.400876</td>\n",
       "      <td>96</td>\n",
       "      <td>Dolores St at 15th St</td>\n",
       "      <td>37.766210</td>\n",
       "      <td>-122.426614</td>\n",
       "      <td>88</td>\n",
       "      <td>Customer</td>\n",
       "      <td>1965.0</td>\n",
       "      <td>Female</td>\n",
       "    </tr>\n",
       "    <tr>\n",
       "      <td>2</td>\n",
       "      <td>45768</td>\n",
       "      <td>2017-12-31 22:45:48.4110</td>\n",
       "      <td>2018-01-01 11:28:36.8830</td>\n",
       "      <td>245</td>\n",
       "      <td>Downtown Berkeley BART</td>\n",
       "      <td>37.870348</td>\n",
       "      <td>-122.267764</td>\n",
       "      <td>245</td>\n",
       "      <td>Downtown Berkeley BART</td>\n",
       "      <td>37.870348</td>\n",
       "      <td>-122.267764</td>\n",
       "      <td>1094</td>\n",
       "      <td>Customer</td>\n",
       "      <td>NaN</td>\n",
       "      <td>NaN</td>\n",
       "    </tr>\n",
       "    <tr>\n",
       "      <td>3</td>\n",
       "      <td>62172</td>\n",
       "      <td>2017-12-31 17:31:10.6360</td>\n",
       "      <td>2018-01-01 10:47:23.5310</td>\n",
       "      <td>60</td>\n",
       "      <td>8th St at Ringold St</td>\n",
       "      <td>37.774520</td>\n",
       "      <td>-122.409449</td>\n",
       "      <td>5</td>\n",
       "      <td>Powell St BART Station (Market St at 5th St)</td>\n",
       "      <td>37.783899</td>\n",
       "      <td>-122.408445</td>\n",
       "      <td>2831</td>\n",
       "      <td>Customer</td>\n",
       "      <td>NaN</td>\n",
       "      <td>NaN</td>\n",
       "    </tr>\n",
       "    <tr>\n",
       "      <td>4</td>\n",
       "      <td>43603</td>\n",
       "      <td>2017-12-31 14:23:14.0010</td>\n",
       "      <td>2018-01-01 02:29:57.5710</td>\n",
       "      <td>239</td>\n",
       "      <td>Bancroft Way at Telegraph Ave</td>\n",
       "      <td>37.868813</td>\n",
       "      <td>-122.258764</td>\n",
       "      <td>247</td>\n",
       "      <td>Fulton St at Bancroft Way</td>\n",
       "      <td>37.867789</td>\n",
       "      <td>-122.265896</td>\n",
       "      <td>3167</td>\n",
       "      <td>Subscriber</td>\n",
       "      <td>1997.0</td>\n",
       "      <td>Female</td>\n",
       "    </tr>\n",
       "  </tbody>\n",
       "</table>\n",
       "</div>"
      ],
      "text/plain": [
       "   duration_sec                start_time                  end_time  \\\n",
       "0         80110  2017-12-31 16:57:39.6540  2018-01-01 15:12:50.2450   \n",
       "1         78800  2017-12-31 15:56:34.8420  2018-01-01 13:49:55.6170   \n",
       "2         45768  2017-12-31 22:45:48.4110  2018-01-01 11:28:36.8830   \n",
       "3         62172  2017-12-31 17:31:10.6360  2018-01-01 10:47:23.5310   \n",
       "4         43603  2017-12-31 14:23:14.0010  2018-01-01 02:29:57.5710   \n",
       "\n",
       "   start_station_id                                 start_station_name  \\\n",
       "0                74                              Laguna St at Hayes St   \n",
       "1               284  Yerba Buena Center for the Arts (Howard St at ...   \n",
       "2               245                             Downtown Berkeley BART   \n",
       "3                60                               8th St at Ringold St   \n",
       "4               239                      Bancroft Way at Telegraph Ave   \n",
       "\n",
       "   start_station_latitude  start_station_longitude  end_station_id  \\\n",
       "0               37.776435              -122.426244              43   \n",
       "1               37.784872              -122.400876              96   \n",
       "2               37.870348              -122.267764             245   \n",
       "3               37.774520              -122.409449               5   \n",
       "4               37.868813              -122.258764             247   \n",
       "\n",
       "                                    end_station_name  end_station_latitude  \\\n",
       "0  San Francisco Public Library (Grove St at Hyde...             37.778768   \n",
       "1                              Dolores St at 15th St             37.766210   \n",
       "2                             Downtown Berkeley BART             37.870348   \n",
       "3       Powell St BART Station (Market St at 5th St)             37.783899   \n",
       "4                          Fulton St at Bancroft Way             37.867789   \n",
       "\n",
       "   end_station_longitude  bike_id   user_type  member_birth_year member_gender  \n",
       "0            -122.415929       96    Customer             1987.0          Male  \n",
       "1            -122.426614       88    Customer             1965.0        Female  \n",
       "2            -122.267764     1094    Customer                NaN           NaN  \n",
       "3            -122.408445     2831    Customer                NaN           NaN  \n",
       "4            -122.265896     3167  Subscriber             1997.0        Female  "
      ]
     },
     "execution_count": 5,
     "metadata": {},
     "output_type": "execute_result"
    }
   ],
   "source": [
    "df.head()"
   ]
  },
  {
   "cell_type": "code",
   "execution_count": 6,
   "metadata": {
    "ExecuteTime": {
     "end_time": "2019-09-03T19:34:44.417448Z",
     "start_time": "2019-09-03T19:34:44.311731Z"
    }
   },
   "outputs": [
    {
     "data": {
      "text/html": [
       "<div>\n",
       "<style scoped>\n",
       "    .dataframe tbody tr th:only-of-type {\n",
       "        vertical-align: middle;\n",
       "    }\n",
       "\n",
       "    .dataframe tbody tr th {\n",
       "        vertical-align: top;\n",
       "    }\n",
       "\n",
       "    .dataframe thead th {\n",
       "        text-align: right;\n",
       "    }\n",
       "</style>\n",
       "<table border=\"1\" class=\"dataframe\">\n",
       "  <thead>\n",
       "    <tr style=\"text-align: right;\">\n",
       "      <th></th>\n",
       "      <th>duration_sec</th>\n",
       "      <th>start_time</th>\n",
       "      <th>end_time</th>\n",
       "      <th>start_station_id</th>\n",
       "      <th>start_station_name</th>\n",
       "      <th>start_station_latitude</th>\n",
       "      <th>start_station_longitude</th>\n",
       "      <th>end_station_id</th>\n",
       "      <th>end_station_name</th>\n",
       "      <th>end_station_latitude</th>\n",
       "      <th>end_station_longitude</th>\n",
       "      <th>bike_id</th>\n",
       "      <th>user_type</th>\n",
       "      <th>member_birth_year</th>\n",
       "      <th>member_gender</th>\n",
       "    </tr>\n",
       "  </thead>\n",
       "  <tbody>\n",
       "    <tr>\n",
       "      <td>519695</td>\n",
       "      <td>435</td>\n",
       "      <td>2017-06-28 10:00:54.5280</td>\n",
       "      <td>2017-06-28 10:08:10.4380</td>\n",
       "      <td>81</td>\n",
       "      <td>Berry St at 4th St</td>\n",
       "      <td>37.775880</td>\n",
       "      <td>-122.393170</td>\n",
       "      <td>45</td>\n",
       "      <td>5th St at Howard St</td>\n",
       "      <td>37.781752</td>\n",
       "      <td>-122.405127</td>\n",
       "      <td>400</td>\n",
       "      <td>Subscriber</td>\n",
       "      <td>1991.0</td>\n",
       "      <td>Male</td>\n",
       "    </tr>\n",
       "    <tr>\n",
       "      <td>519696</td>\n",
       "      <td>431</td>\n",
       "      <td>2017-06-28 09:56:39.6310</td>\n",
       "      <td>2017-06-28 10:03:51.0900</td>\n",
       "      <td>66</td>\n",
       "      <td>3rd St at Townsend St</td>\n",
       "      <td>37.778742</td>\n",
       "      <td>-122.392741</td>\n",
       "      <td>321</td>\n",
       "      <td>5th at Folsom</td>\n",
       "      <td>37.780146</td>\n",
       "      <td>-122.403071</td>\n",
       "      <td>316</td>\n",
       "      <td>Subscriber</td>\n",
       "      <td>1973.0</td>\n",
       "      <td>Male</td>\n",
       "    </tr>\n",
       "    <tr>\n",
       "      <td>519697</td>\n",
       "      <td>424</td>\n",
       "      <td>2017-06-28 09:47:36.3470</td>\n",
       "      <td>2017-06-28 09:54:41.1870</td>\n",
       "      <td>21</td>\n",
       "      <td>Montgomery St BART Station (Market St at 2nd St)</td>\n",
       "      <td>37.789625</td>\n",
       "      <td>-122.400811</td>\n",
       "      <td>48</td>\n",
       "      <td>2nd St at S Park St</td>\n",
       "      <td>37.782411</td>\n",
       "      <td>-122.392706</td>\n",
       "      <td>240</td>\n",
       "      <td>Subscriber</td>\n",
       "      <td>1985.0</td>\n",
       "      <td>Female</td>\n",
       "    </tr>\n",
       "    <tr>\n",
       "      <td>519698</td>\n",
       "      <td>366</td>\n",
       "      <td>2017-06-28 09:47:41.6640</td>\n",
       "      <td>2017-06-28 09:53:47.7150</td>\n",
       "      <td>58</td>\n",
       "      <td>Market St at 10th St</td>\n",
       "      <td>37.776619</td>\n",
       "      <td>-122.417385</td>\n",
       "      <td>59</td>\n",
       "      <td>S Van Ness Ave at Market St</td>\n",
       "      <td>37.774814</td>\n",
       "      <td>-122.418954</td>\n",
       "      <td>669</td>\n",
       "      <td>Subscriber</td>\n",
       "      <td>1981.0</td>\n",
       "      <td>Male</td>\n",
       "    </tr>\n",
       "    <tr>\n",
       "      <td>519699</td>\n",
       "      <td>188</td>\n",
       "      <td>2017-06-28 09:49:46.3770</td>\n",
       "      <td>2017-06-28 09:52:55.3380</td>\n",
       "      <td>25</td>\n",
       "      <td>Howard St at 2nd St</td>\n",
       "      <td>37.787522</td>\n",
       "      <td>-122.397405</td>\n",
       "      <td>48</td>\n",
       "      <td>2nd St at S Park St</td>\n",
       "      <td>37.782411</td>\n",
       "      <td>-122.392706</td>\n",
       "      <td>117</td>\n",
       "      <td>Subscriber</td>\n",
       "      <td>1984.0</td>\n",
       "      <td>Male</td>\n",
       "    </tr>\n",
       "  </tbody>\n",
       "</table>\n",
       "</div>"
      ],
      "text/plain": [
       "        duration_sec                start_time                  end_time  \\\n",
       "519695           435  2017-06-28 10:00:54.5280  2017-06-28 10:08:10.4380   \n",
       "519696           431  2017-06-28 09:56:39.6310  2017-06-28 10:03:51.0900   \n",
       "519697           424  2017-06-28 09:47:36.3470  2017-06-28 09:54:41.1870   \n",
       "519698           366  2017-06-28 09:47:41.6640  2017-06-28 09:53:47.7150   \n",
       "519699           188  2017-06-28 09:49:46.3770  2017-06-28 09:52:55.3380   \n",
       "\n",
       "        start_station_id                                start_station_name  \\\n",
       "519695                81                                Berry St at 4th St   \n",
       "519696                66                             3rd St at Townsend St   \n",
       "519697                21  Montgomery St BART Station (Market St at 2nd St)   \n",
       "519698                58                              Market St at 10th St   \n",
       "519699                25                               Howard St at 2nd St   \n",
       "\n",
       "        start_station_latitude  start_station_longitude  end_station_id  \\\n",
       "519695               37.775880              -122.393170              45   \n",
       "519696               37.778742              -122.392741             321   \n",
       "519697               37.789625              -122.400811              48   \n",
       "519698               37.776619              -122.417385              59   \n",
       "519699               37.787522              -122.397405              48   \n",
       "\n",
       "                   end_station_name  end_station_latitude  \\\n",
       "519695          5th St at Howard St             37.781752   \n",
       "519696                5th at Folsom             37.780146   \n",
       "519697          2nd St at S Park St             37.782411   \n",
       "519698  S Van Ness Ave at Market St             37.774814   \n",
       "519699          2nd St at S Park St             37.782411   \n",
       "\n",
       "        end_station_longitude  bike_id   user_type  member_birth_year  \\\n",
       "519695            -122.405127      400  Subscriber             1991.0   \n",
       "519696            -122.403071      316  Subscriber             1973.0   \n",
       "519697            -122.392706      240  Subscriber             1985.0   \n",
       "519698            -122.418954      669  Subscriber             1981.0   \n",
       "519699            -122.392706      117  Subscriber             1984.0   \n",
       "\n",
       "       member_gender  \n",
       "519695          Male  \n",
       "519696          Male  \n",
       "519697        Female  \n",
       "519698          Male  \n",
       "519699          Male  "
      ]
     },
     "execution_count": 6,
     "metadata": {},
     "output_type": "execute_result"
    }
   ],
   "source": [
    "df.tail()"
   ]
  },
  {
   "cell_type": "code",
   "execution_count": 7,
   "metadata": {
    "ExecuteTime": {
     "end_time": "2019-09-03T19:34:45.130167Z",
     "start_time": "2019-09-03T19:34:44.418445Z"
    }
   },
   "outputs": [
    {
     "data": {
      "text/html": [
       "<div>\n",
       "<style scoped>\n",
       "    .dataframe tbody tr th:only-of-type {\n",
       "        vertical-align: middle;\n",
       "    }\n",
       "\n",
       "    .dataframe tbody tr th {\n",
       "        vertical-align: top;\n",
       "    }\n",
       "\n",
       "    .dataframe thead th {\n",
       "        text-align: right;\n",
       "    }\n",
       "</style>\n",
       "<table border=\"1\" class=\"dataframe\">\n",
       "  <thead>\n",
       "    <tr style=\"text-align: right;\">\n",
       "      <th></th>\n",
       "      <th>duration_sec</th>\n",
       "      <th>start_station_id</th>\n",
       "      <th>start_station_latitude</th>\n",
       "      <th>start_station_longitude</th>\n",
       "      <th>end_station_id</th>\n",
       "      <th>end_station_latitude</th>\n",
       "      <th>end_station_longitude</th>\n",
       "      <th>bike_id</th>\n",
       "      <th>member_birth_year</th>\n",
       "    </tr>\n",
       "  </thead>\n",
       "  <tbody>\n",
       "    <tr>\n",
       "      <td>count</td>\n",
       "      <td>519700.000000</td>\n",
       "      <td>519700.000000</td>\n",
       "      <td>519700.000000</td>\n",
       "      <td>519700.000000</td>\n",
       "      <td>519700.000000</td>\n",
       "      <td>519700.000000</td>\n",
       "      <td>519700.000000</td>\n",
       "      <td>519700.000000</td>\n",
       "      <td>453159.000000</td>\n",
       "    </tr>\n",
       "    <tr>\n",
       "      <td>mean</td>\n",
       "      <td>1099.009521</td>\n",
       "      <td>95.034245</td>\n",
       "      <td>37.771653</td>\n",
       "      <td>-122.363927</td>\n",
       "      <td>92.184041</td>\n",
       "      <td>37.771844</td>\n",
       "      <td>-122.363236</td>\n",
       "      <td>1672.533079</td>\n",
       "      <td>1980.404787</td>\n",
       "    </tr>\n",
       "    <tr>\n",
       "      <td>std</td>\n",
       "      <td>3444.146451</td>\n",
       "      <td>86.083078</td>\n",
       "      <td>0.086305</td>\n",
       "      <td>0.105573</td>\n",
       "      <td>84.969491</td>\n",
       "      <td>0.086224</td>\n",
       "      <td>0.105122</td>\n",
       "      <td>971.356959</td>\n",
       "      <td>10.513488</td>\n",
       "    </tr>\n",
       "    <tr>\n",
       "      <td>min</td>\n",
       "      <td>61.000000</td>\n",
       "      <td>3.000000</td>\n",
       "      <td>37.317298</td>\n",
       "      <td>-122.444293</td>\n",
       "      <td>3.000000</td>\n",
       "      <td>37.317298</td>\n",
       "      <td>-122.444293</td>\n",
       "      <td>10.000000</td>\n",
       "      <td>1886.000000</td>\n",
       "    </tr>\n",
       "    <tr>\n",
       "      <td>25%</td>\n",
       "      <td>382.000000</td>\n",
       "      <td>24.000000</td>\n",
       "      <td>37.773492</td>\n",
       "      <td>-122.411726</td>\n",
       "      <td>23.000000</td>\n",
       "      <td>37.774520</td>\n",
       "      <td>-122.410345</td>\n",
       "      <td>787.000000</td>\n",
       "      <td>1974.000000</td>\n",
       "    </tr>\n",
       "    <tr>\n",
       "      <td>50%</td>\n",
       "      <td>596.000000</td>\n",
       "      <td>67.000000</td>\n",
       "      <td>37.783521</td>\n",
       "      <td>-122.398870</td>\n",
       "      <td>66.000000</td>\n",
       "      <td>37.783830</td>\n",
       "      <td>-122.398525</td>\n",
       "      <td>1728.500000</td>\n",
       "      <td>1983.000000</td>\n",
       "    </tr>\n",
       "    <tr>\n",
       "      <td>75%</td>\n",
       "      <td>938.000000</td>\n",
       "      <td>139.000000</td>\n",
       "      <td>37.795392</td>\n",
       "      <td>-122.391034</td>\n",
       "      <td>134.000000</td>\n",
       "      <td>37.795392</td>\n",
       "      <td>-122.391034</td>\n",
       "      <td>2520.000000</td>\n",
       "      <td>1988.000000</td>\n",
       "    </tr>\n",
       "    <tr>\n",
       "      <td>max</td>\n",
       "      <td>86369.000000</td>\n",
       "      <td>340.000000</td>\n",
       "      <td>37.880222</td>\n",
       "      <td>-121.874119</td>\n",
       "      <td>340.000000</td>\n",
       "      <td>37.880222</td>\n",
       "      <td>-121.874119</td>\n",
       "      <td>3733.000000</td>\n",
       "      <td>1999.000000</td>\n",
       "    </tr>\n",
       "  </tbody>\n",
       "</table>\n",
       "</div>"
      ],
      "text/plain": [
       "        duration_sec  start_station_id  start_station_latitude  \\\n",
       "count  519700.000000     519700.000000           519700.000000   \n",
       "mean     1099.009521         95.034245               37.771653   \n",
       "std      3444.146451         86.083078                0.086305   \n",
       "min        61.000000          3.000000               37.317298   \n",
       "25%       382.000000         24.000000               37.773492   \n",
       "50%       596.000000         67.000000               37.783521   \n",
       "75%       938.000000        139.000000               37.795392   \n",
       "max     86369.000000        340.000000               37.880222   \n",
       "\n",
       "       start_station_longitude  end_station_id  end_station_latitude  \\\n",
       "count            519700.000000   519700.000000         519700.000000   \n",
       "mean               -122.363927       92.184041             37.771844   \n",
       "std                   0.105573       84.969491              0.086224   \n",
       "min                -122.444293        3.000000             37.317298   \n",
       "25%                -122.411726       23.000000             37.774520   \n",
       "50%                -122.398870       66.000000             37.783830   \n",
       "75%                -122.391034      134.000000             37.795392   \n",
       "max                -121.874119      340.000000             37.880222   \n",
       "\n",
       "       end_station_longitude        bike_id  member_birth_year  \n",
       "count          519700.000000  519700.000000      453159.000000  \n",
       "mean             -122.363236    1672.533079        1980.404787  \n",
       "std                 0.105122     971.356959          10.513488  \n",
       "min              -122.444293      10.000000        1886.000000  \n",
       "25%              -122.410345     787.000000        1974.000000  \n",
       "50%              -122.398525    1728.500000        1983.000000  \n",
       "75%              -122.391034    2520.000000        1988.000000  \n",
       "max              -121.874119    3733.000000        1999.000000  "
      ]
     },
     "execution_count": 7,
     "metadata": {},
     "output_type": "execute_result"
    }
   ],
   "source": [
    "df.describe()"
   ]
  },
  {
   "cell_type": "code",
   "execution_count": 8,
   "metadata": {
    "ExecuteTime": {
     "end_time": "2019-09-03T19:34:45.244860Z",
     "start_time": "2019-09-03T19:34:45.133159Z"
    }
   },
   "outputs": [
    {
     "data": {
      "text/plain": [
       "Subscriber    409230\n",
       "Customer      110470\n",
       "Name: user_type, dtype: int64"
      ]
     },
     "execution_count": 8,
     "metadata": {},
     "output_type": "execute_result"
    }
   ],
   "source": [
    "df.user_type.value_counts()"
   ]
  },
  {
   "cell_type": "code",
   "execution_count": 9,
   "metadata": {
    "ExecuteTime": {
     "end_time": "2019-09-03T19:34:45.463624Z",
     "start_time": "2019-09-03T19:34:45.246855Z"
    }
   },
   "outputs": [
    {
     "data": {
      "text/plain": [
       "1099.0095208774294"
      ]
     },
     "execution_count": 9,
     "metadata": {},
     "output_type": "execute_result"
    }
   ],
   "source": [
    "df.duration_sec.mean()"
   ]
  },
  {
   "cell_type": "code",
   "execution_count": 10,
   "metadata": {
    "ExecuteTime": {
     "end_time": "2019-09-03T19:34:45.735138Z",
     "start_time": "2019-09-03T19:34:45.468593Z"
    },
    "scrolled": true
   },
   "outputs": [
    {
     "data": {
      "text/plain": [
       "user_type\n",
       "Customer      2557.445786\n",
       "Subscriber     705.310490\n",
       "Name: duration_sec, dtype: float64"
      ]
     },
     "execution_count": 10,
     "metadata": {},
     "output_type": "execute_result"
    }
   ],
   "source": [
    "df.groupby('user_type')['duration_sec'].mean()"
   ]
  },
  {
   "cell_type": "code",
   "execution_count": 11,
   "metadata": {
    "ExecuteTime": {
     "end_time": "2019-09-03T19:34:45.912004Z",
     "start_time": "2019-09-03T19:34:45.736123Z"
    }
   },
   "outputs": [
    {
     "data": {
      "text/plain": [
       "15    15187\n",
       "6     13664\n",
       "30    12546\n",
       "67    12055\n",
       "58    11960\n",
       "21    11334\n",
       "81    10956\n",
       "3     10142\n",
       "22     9926\n",
       "16     9347\n",
       "Name: start_station_id, dtype: int64"
      ]
     },
     "execution_count": 11,
     "metadata": {},
     "output_type": "execute_result"
    }
   ],
   "source": [
    "df.start_station_id.value_counts().head(10)"
   ]
  },
  {
   "cell_type": "code",
   "execution_count": 12,
   "metadata": {
    "ExecuteTime": {
     "end_time": "2019-09-03T19:34:46.245527Z",
     "start_time": "2019-09-03T19:34:45.913002Z"
    }
   },
   "outputs": [
    {
     "data": {
      "text/plain": [
       "30    17378\n",
       "15    17109\n",
       "6     16531\n",
       "67    13658\n",
       "21    13443\n",
       "58    11298\n",
       "3     11064\n",
       "81    10611\n",
       "16     9321\n",
       "5      8563\n",
       "Name: end_station_id, dtype: int64"
      ]
     },
     "execution_count": 12,
     "metadata": {},
     "output_type": "execute_result"
    }
   ],
   "source": [
    "df.end_station_id.value_counts().head(10)"
   ]
  },
  {
   "cell_type": "code",
   "execution_count": 13,
   "metadata": {
    "ExecuteTime": {
     "end_time": "2019-09-03T19:34:46.451974Z",
     "start_time": "2019-09-03T19:34:46.250513Z"
    }
   },
   "outputs": [
    {
     "data": {
      "text/plain": [
       "Male      348318\n",
       "Female     98621\n",
       "Other       6299\n",
       "Name: member_gender, dtype: int64"
      ]
     },
     "execution_count": 13,
     "metadata": {},
     "output_type": "execute_result"
    }
   ],
   "source": [
    "df.member_gender.value_counts()"
   ]
  },
  {
   "cell_type": "code",
   "execution_count": 14,
   "metadata": {
    "ExecuteTime": {
     "end_time": "2019-09-03T19:34:46.664541Z",
     "start_time": "2019-09-03T19:34:46.452971Z"
    }
   },
   "outputs": [
    {
     "data": {
      "text/plain": [
       "member_gender\n",
       "Female    1027.891068\n",
       "Male       774.440899\n",
       "Other     1019.258771\n",
       "Name: duration_sec, dtype: float64"
      ]
     },
     "execution_count": 14,
     "metadata": {},
     "output_type": "execute_result"
    }
   ],
   "source": [
    "df.groupby('member_gender')['duration_sec'].mean()"
   ]
  },
  {
   "cell_type": "code",
   "execution_count": 15,
   "metadata": {
    "ExecuteTime": {
     "end_time": "2019-09-03T19:34:46.856623Z",
     "start_time": "2019-09-03T19:34:46.665516Z"
    }
   },
   "outputs": [
    {
     "data": {
      "text/html": [
       "<div>\n",
       "<style scoped>\n",
       "    .dataframe tbody tr th:only-of-type {\n",
       "        vertical-align: middle;\n",
       "    }\n",
       "\n",
       "    .dataframe tbody tr th {\n",
       "        vertical-align: top;\n",
       "    }\n",
       "\n",
       "    .dataframe thead th {\n",
       "        text-align: right;\n",
       "    }\n",
       "</style>\n",
       "<table border=\"1\" class=\"dataframe\">\n",
       "  <thead>\n",
       "    <tr style=\"text-align: right;\">\n",
       "      <th></th>\n",
       "      <th>duration_sec</th>\n",
       "      <th>start_time</th>\n",
       "      <th>end_time</th>\n",
       "      <th>start_station_id</th>\n",
       "      <th>start_station_name</th>\n",
       "      <th>start_station_latitude</th>\n",
       "      <th>start_station_longitude</th>\n",
       "      <th>end_station_id</th>\n",
       "      <th>end_station_name</th>\n",
       "      <th>end_station_latitude</th>\n",
       "      <th>end_station_longitude</th>\n",
       "      <th>bike_id</th>\n",
       "      <th>user_type</th>\n",
       "      <th>member_birth_year</th>\n",
       "      <th>member_gender</th>\n",
       "    </tr>\n",
       "  </thead>\n",
       "  <tbody>\n",
       "    <tr>\n",
       "      <td>287</td>\n",
       "      <td>581</td>\n",
       "      <td>2017-12-31 18:10:46.5560</td>\n",
       "      <td>2017-12-31 18:20:28.3520</td>\n",
       "      <td>274</td>\n",
       "      <td>Oregon St at Adeline St</td>\n",
       "      <td>37.857567</td>\n",
       "      <td>-122.267558</td>\n",
       "      <td>173</td>\n",
       "      <td>Shattuck Ave at 55th Ave</td>\n",
       "      <td>37.840364</td>\n",
       "      <td>-122.264488</td>\n",
       "      <td>3050</td>\n",
       "      <td>Subscriber</td>\n",
       "      <td>1900.0</td>\n",
       "      <td>Male</td>\n",
       "    </tr>\n",
       "    <tr>\n",
       "      <td>1751</td>\n",
       "      <td>370</td>\n",
       "      <td>2017-12-30 17:17:54.9690</td>\n",
       "      <td>2017-12-30 17:24:05.4810</td>\n",
       "      <td>207</td>\n",
       "      <td>Broadway at Coronado Ave</td>\n",
       "      <td>37.835788</td>\n",
       "      <td>-122.251621</td>\n",
       "      <td>173</td>\n",
       "      <td>Shattuck Ave at 55th Ave</td>\n",
       "      <td>37.840364</td>\n",
       "      <td>-122.264488</td>\n",
       "      <td>456</td>\n",
       "      <td>Subscriber</td>\n",
       "      <td>1900.0</td>\n",
       "      <td>Male</td>\n",
       "    </tr>\n",
       "    <tr>\n",
       "      <td>3119</td>\n",
       "      <td>457</td>\n",
       "      <td>2017-12-29 18:24:08.7220</td>\n",
       "      <td>2017-12-29 18:31:46.0080</td>\n",
       "      <td>207</td>\n",
       "      <td>Broadway at Coronado Ave</td>\n",
       "      <td>37.835788</td>\n",
       "      <td>-122.251621</td>\n",
       "      <td>173</td>\n",
       "      <td>Shattuck Ave at 55th Ave</td>\n",
       "      <td>37.840364</td>\n",
       "      <td>-122.264488</td>\n",
       "      <td>1238</td>\n",
       "      <td>Subscriber</td>\n",
       "      <td>1900.0</td>\n",
       "      <td>Male</td>\n",
       "    </tr>\n",
       "    <tr>\n",
       "      <td>3259</td>\n",
       "      <td>613</td>\n",
       "      <td>2017-12-29 17:20:22.0960</td>\n",
       "      <td>2017-12-29 17:30:35.5270</td>\n",
       "      <td>173</td>\n",
       "      <td>Shattuck Ave at 55th Ave</td>\n",
       "      <td>37.840364</td>\n",
       "      <td>-122.264488</td>\n",
       "      <td>207</td>\n",
       "      <td>Broadway at Coronado Ave</td>\n",
       "      <td>37.835788</td>\n",
       "      <td>-122.251621</td>\n",
       "      <td>1238</td>\n",
       "      <td>Subscriber</td>\n",
       "      <td>1900.0</td>\n",
       "      <td>Male</td>\n",
       "    </tr>\n",
       "    <tr>\n",
       "      <td>5246</td>\n",
       "      <td>271</td>\n",
       "      <td>2017-12-28 16:48:41.3100</td>\n",
       "      <td>2017-12-28 16:53:12.6450</td>\n",
       "      <td>158</td>\n",
       "      <td>Shattuck Ave at Telegraph Ave</td>\n",
       "      <td>37.833279</td>\n",
       "      <td>-122.263490</td>\n",
       "      <td>173</td>\n",
       "      <td>Shattuck Ave at 55th Ave</td>\n",
       "      <td>37.840364</td>\n",
       "      <td>-122.264488</td>\n",
       "      <td>173</td>\n",
       "      <td>Subscriber</td>\n",
       "      <td>1900.0</td>\n",
       "      <td>Male</td>\n",
       "    </tr>\n",
       "    <tr>\n",
       "      <td>...</td>\n",
       "      <td>...</td>\n",
       "      <td>...</td>\n",
       "      <td>...</td>\n",
       "      <td>...</td>\n",
       "      <td>...</td>\n",
       "      <td>...</td>\n",
       "      <td>...</td>\n",
       "      <td>...</td>\n",
       "      <td>...</td>\n",
       "      <td>...</td>\n",
       "      <td>...</td>\n",
       "      <td>...</td>\n",
       "      <td>...</td>\n",
       "      <td>...</td>\n",
       "      <td>...</td>\n",
       "    </tr>\n",
       "    <tr>\n",
       "      <td>517299</td>\n",
       "      <td>590</td>\n",
       "      <td>2017-06-30 17:05:16.2190</td>\n",
       "      <td>2017-06-30 17:15:06.5120</td>\n",
       "      <td>19</td>\n",
       "      <td>Post St at Kearny St</td>\n",
       "      <td>37.788975</td>\n",
       "      <td>-122.403452</td>\n",
       "      <td>30</td>\n",
       "      <td>San Francisco Caltrain (Townsend St at 4th St)</td>\n",
       "      <td>37.776598</td>\n",
       "      <td>-122.395282</td>\n",
       "      <td>765</td>\n",
       "      <td>Subscriber</td>\n",
       "      <td>1902.0</td>\n",
       "      <td>Male</td>\n",
       "    </tr>\n",
       "    <tr>\n",
       "      <td>517916</td>\n",
       "      <td>501</td>\n",
       "      <td>2017-06-30 08:24:11.2740</td>\n",
       "      <td>2017-06-30 08:32:32.7140</td>\n",
       "      <td>30</td>\n",
       "      <td>San Francisco Caltrain (Townsend St at 4th St)</td>\n",
       "      <td>37.776598</td>\n",
       "      <td>-122.395282</td>\n",
       "      <td>21</td>\n",
       "      <td>Montgomery St BART Station (Market St at 2nd St)</td>\n",
       "      <td>37.789625</td>\n",
       "      <td>-122.400811</td>\n",
       "      <td>271</td>\n",
       "      <td>Subscriber</td>\n",
       "      <td>1902.0</td>\n",
       "      <td>Male</td>\n",
       "    </tr>\n",
       "    <tr>\n",
       "      <td>518374</td>\n",
       "      <td>613</td>\n",
       "      <td>2017-06-29 17:08:00.0060</td>\n",
       "      <td>2017-06-29 17:18:13.3820</td>\n",
       "      <td>19</td>\n",
       "      <td>Post St at Kearny St</td>\n",
       "      <td>37.788975</td>\n",
       "      <td>-122.403452</td>\n",
       "      <td>67</td>\n",
       "      <td>San Francisco Caltrain Station 2  (Townsend St...</td>\n",
       "      <td>37.776639</td>\n",
       "      <td>-122.395526</td>\n",
       "      <td>898</td>\n",
       "      <td>Subscriber</td>\n",
       "      <td>1902.0</td>\n",
       "      <td>Male</td>\n",
       "    </tr>\n",
       "    <tr>\n",
       "      <td>518808</td>\n",
       "      <td>582</td>\n",
       "      <td>2017-06-29 09:13:21.6170</td>\n",
       "      <td>2017-06-29 09:23:03.9030</td>\n",
       "      <td>30</td>\n",
       "      <td>San Francisco Caltrain (Townsend St at 4th St)</td>\n",
       "      <td>37.776598</td>\n",
       "      <td>-122.395282</td>\n",
       "      <td>21</td>\n",
       "      <td>Montgomery St BART Station (Market St at 2nd St)</td>\n",
       "      <td>37.789625</td>\n",
       "      <td>-122.400811</td>\n",
       "      <td>908</td>\n",
       "      <td>Subscriber</td>\n",
       "      <td>1902.0</td>\n",
       "      <td>Male</td>\n",
       "    </tr>\n",
       "    <tr>\n",
       "      <td>519345</td>\n",
       "      <td>600</td>\n",
       "      <td>2017-06-28 17:03:02.5570</td>\n",
       "      <td>2017-06-28 17:13:03.0480</td>\n",
       "      <td>19</td>\n",
       "      <td>Post St at Kearny St</td>\n",
       "      <td>37.788975</td>\n",
       "      <td>-122.403452</td>\n",
       "      <td>30</td>\n",
       "      <td>San Francisco Caltrain (Townsend St at 4th St)</td>\n",
       "      <td>37.776598</td>\n",
       "      <td>-122.395282</td>\n",
       "      <td>1071</td>\n",
       "      <td>Subscriber</td>\n",
       "      <td>1902.0</td>\n",
       "      <td>Male</td>\n",
       "    </tr>\n",
       "  </tbody>\n",
       "</table>\n",
       "<p>384 rows × 15 columns</p>\n",
       "</div>"
      ],
      "text/plain": [
       "        duration_sec                start_time                  end_time  \\\n",
       "287              581  2017-12-31 18:10:46.5560  2017-12-31 18:20:28.3520   \n",
       "1751             370  2017-12-30 17:17:54.9690  2017-12-30 17:24:05.4810   \n",
       "3119             457  2017-12-29 18:24:08.7220  2017-12-29 18:31:46.0080   \n",
       "3259             613  2017-12-29 17:20:22.0960  2017-12-29 17:30:35.5270   \n",
       "5246             271  2017-12-28 16:48:41.3100  2017-12-28 16:53:12.6450   \n",
       "...              ...                       ...                       ...   \n",
       "517299           590  2017-06-30 17:05:16.2190  2017-06-30 17:15:06.5120   \n",
       "517916           501  2017-06-30 08:24:11.2740  2017-06-30 08:32:32.7140   \n",
       "518374           613  2017-06-29 17:08:00.0060  2017-06-29 17:18:13.3820   \n",
       "518808           582  2017-06-29 09:13:21.6170  2017-06-29 09:23:03.9030   \n",
       "519345           600  2017-06-28 17:03:02.5570  2017-06-28 17:13:03.0480   \n",
       "\n",
       "        start_station_id                              start_station_name  \\\n",
       "287                  274                         Oregon St at Adeline St   \n",
       "1751                 207                        Broadway at Coronado Ave   \n",
       "3119                 207                        Broadway at Coronado Ave   \n",
       "3259                 173                        Shattuck Ave at 55th Ave   \n",
       "5246                 158                   Shattuck Ave at Telegraph Ave   \n",
       "...                  ...                                             ...   \n",
       "517299                19                            Post St at Kearny St   \n",
       "517916                30  San Francisco Caltrain (Townsend St at 4th St)   \n",
       "518374                19                            Post St at Kearny St   \n",
       "518808                30  San Francisco Caltrain (Townsend St at 4th St)   \n",
       "519345                19                            Post St at Kearny St   \n",
       "\n",
       "        start_station_latitude  start_station_longitude  end_station_id  \\\n",
       "287                  37.857567              -122.267558             173   \n",
       "1751                 37.835788              -122.251621             173   \n",
       "3119                 37.835788              -122.251621             173   \n",
       "3259                 37.840364              -122.264488             207   \n",
       "5246                 37.833279              -122.263490             173   \n",
       "...                        ...                      ...             ...   \n",
       "517299               37.788975              -122.403452              30   \n",
       "517916               37.776598              -122.395282              21   \n",
       "518374               37.788975              -122.403452              67   \n",
       "518808               37.776598              -122.395282              21   \n",
       "519345               37.788975              -122.403452              30   \n",
       "\n",
       "                                         end_station_name  \\\n",
       "287                              Shattuck Ave at 55th Ave   \n",
       "1751                             Shattuck Ave at 55th Ave   \n",
       "3119                             Shattuck Ave at 55th Ave   \n",
       "3259                             Broadway at Coronado Ave   \n",
       "5246                             Shattuck Ave at 55th Ave   \n",
       "...                                                   ...   \n",
       "517299     San Francisco Caltrain (Townsend St at 4th St)   \n",
       "517916   Montgomery St BART Station (Market St at 2nd St)   \n",
       "518374  San Francisco Caltrain Station 2  (Townsend St...   \n",
       "518808   Montgomery St BART Station (Market St at 2nd St)   \n",
       "519345     San Francisco Caltrain (Townsend St at 4th St)   \n",
       "\n",
       "        end_station_latitude  end_station_longitude  bike_id   user_type  \\\n",
       "287                37.840364            -122.264488     3050  Subscriber   \n",
       "1751               37.840364            -122.264488      456  Subscriber   \n",
       "3119               37.840364            -122.264488     1238  Subscriber   \n",
       "3259               37.835788            -122.251621     1238  Subscriber   \n",
       "5246               37.840364            -122.264488      173  Subscriber   \n",
       "...                      ...                    ...      ...         ...   \n",
       "517299             37.776598            -122.395282      765  Subscriber   \n",
       "517916             37.789625            -122.400811      271  Subscriber   \n",
       "518374             37.776639            -122.395526      898  Subscriber   \n",
       "518808             37.789625            -122.400811      908  Subscriber   \n",
       "519345             37.776598            -122.395282     1071  Subscriber   \n",
       "\n",
       "        member_birth_year member_gender  \n",
       "287                1900.0          Male  \n",
       "1751               1900.0          Male  \n",
       "3119               1900.0          Male  \n",
       "3259               1900.0          Male  \n",
       "5246               1900.0          Male  \n",
       "...                   ...           ...  \n",
       "517299             1902.0          Male  \n",
       "517916             1902.0          Male  \n",
       "518374             1902.0          Male  \n",
       "518808             1902.0          Male  \n",
       "519345             1902.0          Male  \n",
       "\n",
       "[384 rows x 15 columns]"
      ]
     },
     "execution_count": 15,
     "metadata": {},
     "output_type": "execute_result"
    }
   ],
   "source": [
    "df[df['member_birth_year'] < 1917]"
   ]
  },
  {
   "cell_type": "markdown",
   "metadata": {},
   "source": [
    "### Assessing and Cleaning\n",
    "\n",
    "After looking into the dataset, It was possible to identify some **tidiness** and **quality issues** that needed to be corrected:\n",
    "\n",
    "- `start_time` and `end_time` need to be converte to datetime;\n",
    "- From `start_time` and `end_time` create new columns for day (number), day of week and month - for both starting and ending time;\n",
    "- Transforming day of week: 0=Monday ... 6=Sunday;\n",
    "- From `durantion_sec` create a new column named `duration_min`(duration in minutes);\n",
    "- Null values in `member_gender` and `member_birth_year` (and treat some wrong data);\n",
    "- From `duration_min`create another column with range based on duration, to simplify the analysis;\n",
    " "
   ]
  },
  {
   "cell_type": "markdown",
   "metadata": {},
   "source": [
    "#### 1. Converting `start_time` and `end_time` into datetime"
   ]
  },
  {
   "cell_type": "code",
   "execution_count": 16,
   "metadata": {
    "ExecuteTime": {
     "end_time": "2019-09-03T19:34:47.919171Z",
     "start_time": "2019-09-03T19:34:46.857614Z"
    }
   },
   "outputs": [],
   "source": [
    "df['start_time'] = pd.to_datetime(df['start_time'])\n",
    "df['end_time'] = pd.to_datetime(df['end_time'])"
   ]
  },
  {
   "cell_type": "code",
   "execution_count": 17,
   "metadata": {
    "ExecuteTime": {
     "end_time": "2019-09-03T19:34:48.037854Z",
     "start_time": "2019-09-03T19:34:47.920169Z"
    }
   },
   "outputs": [
    {
     "name": "stdout",
     "output_type": "stream",
     "text": [
      "<class 'pandas.core.frame.DataFrame'>\n",
      "RangeIndex: 519700 entries, 0 to 519699\n",
      "Data columns (total 15 columns):\n",
      "duration_sec               519700 non-null int64\n",
      "start_time                 519700 non-null datetime64[ns]\n",
      "end_time                   519700 non-null datetime64[ns]\n",
      "start_station_id           519700 non-null int64\n",
      "start_station_name         519700 non-null object\n",
      "start_station_latitude     519700 non-null float64\n",
      "start_station_longitude    519700 non-null float64\n",
      "end_station_id             519700 non-null int64\n",
      "end_station_name           519700 non-null object\n",
      "end_station_latitude       519700 non-null float64\n",
      "end_station_longitude      519700 non-null float64\n",
      "bike_id                    519700 non-null int64\n",
      "user_type                  519700 non-null object\n",
      "member_birth_year          453159 non-null float64\n",
      "member_gender              453238 non-null object\n",
      "dtypes: datetime64[ns](2), float64(5), int64(4), object(4)\n",
      "memory usage: 59.5+ MB\n"
     ]
    }
   ],
   "source": [
    "df.info()"
   ]
  },
  {
   "cell_type": "code",
   "execution_count": 18,
   "metadata": {
    "ExecuteTime": {
     "end_time": "2019-09-03T19:34:48.118638Z",
     "start_time": "2019-09-03T19:34:48.038852Z"
    }
   },
   "outputs": [
    {
     "data": {
      "text/plain": [
       "519697   2017-06-28 09:47:36.347\n",
       "519698   2017-06-28 09:47:41.664\n",
       "519699   2017-06-28 09:49:46.377\n",
       "519692   2017-06-28 09:50:59.175\n",
       "519696   2017-06-28 09:56:39.631\n",
       "Name: start_time, dtype: datetime64[ns]"
      ]
     },
     "execution_count": 18,
     "metadata": {},
     "output_type": "execute_result"
    }
   ],
   "source": [
    "df.start_time.sort_values().head()"
   ]
  },
  {
   "cell_type": "code",
   "execution_count": 19,
   "metadata": {
    "ExecuteTime": {
     "end_time": "2019-09-03T19:34:48.342107Z",
     "start_time": "2019-09-03T19:34:48.119635Z"
    }
   },
   "outputs": [
    {
     "data": {
      "text/plain": [
       "20   2017-12-31 23:59:01.261\n",
       "17   2017-12-31 23:55:09.686\n",
       "16   2017-12-31 23:54:40.146\n",
       "22   2017-12-31 23:54:25.337\n",
       "15   2017-12-31 23:53:38.943\n",
       "Name: start_time, dtype: datetime64[ns]"
      ]
     },
     "execution_count": 19,
     "metadata": {},
     "output_type": "execute_result"
    }
   ],
   "source": [
    "df.start_time.sort_values(ascending = False).head()"
   ]
  },
  {
   "cell_type": "markdown",
   "metadata": {},
   "source": [
    "#### 2. From `start_time` and `end_time` create new columns for day (number), day of week and month - for both starting and ending time"
   ]
  },
  {
   "cell_type": "code",
   "execution_count": 20,
   "metadata": {
    "ExecuteTime": {
     "end_time": "2019-09-03T19:34:48.644299Z",
     "start_time": "2019-09-03T19:34:48.343104Z"
    }
   },
   "outputs": [],
   "source": [
    "dates = pd.to_datetime(df['start_time'])\n",
    "df['day_start'] = dates.dt.day\n",
    "df['dayofweek_start'] = dates.dt.dayofweek\n",
    "df['month_start'] = dates.dt.month"
   ]
  },
  {
   "cell_type": "code",
   "execution_count": 21,
   "metadata": {
    "ExecuteTime": {
     "end_time": "2019-09-03T19:34:48.846793Z",
     "start_time": "2019-09-03T19:34:48.645296Z"
    }
   },
   "outputs": [],
   "source": [
    "dates_end = pd.to_datetime(df['end_time'])\n",
    "df['day_end'] = dates_end.dt.day\n",
    "df['dayofweek_end'] = dates_end.dt.dayofweek\n",
    "df['month_end'] = dates_end.dt.month"
   ]
  },
  {
   "cell_type": "code",
   "execution_count": 22,
   "metadata": {
    "ExecuteTime": {
     "end_time": "2019-09-03T19:34:48.953510Z",
     "start_time": "2019-09-03T19:34:48.847754Z"
    }
   },
   "outputs": [
    {
     "data": {
      "text/html": [
       "<div>\n",
       "<style scoped>\n",
       "    .dataframe tbody tr th:only-of-type {\n",
       "        vertical-align: middle;\n",
       "    }\n",
       "\n",
       "    .dataframe tbody tr th {\n",
       "        vertical-align: top;\n",
       "    }\n",
       "\n",
       "    .dataframe thead th {\n",
       "        text-align: right;\n",
       "    }\n",
       "</style>\n",
       "<table border=\"1\" class=\"dataframe\">\n",
       "  <thead>\n",
       "    <tr style=\"text-align: right;\">\n",
       "      <th></th>\n",
       "      <th>duration_sec</th>\n",
       "      <th>start_time</th>\n",
       "      <th>end_time</th>\n",
       "      <th>start_station_id</th>\n",
       "      <th>start_station_name</th>\n",
       "      <th>start_station_latitude</th>\n",
       "      <th>start_station_longitude</th>\n",
       "      <th>end_station_id</th>\n",
       "      <th>end_station_name</th>\n",
       "      <th>end_station_latitude</th>\n",
       "      <th>...</th>\n",
       "      <th>bike_id</th>\n",
       "      <th>user_type</th>\n",
       "      <th>member_birth_year</th>\n",
       "      <th>member_gender</th>\n",
       "      <th>day_start</th>\n",
       "      <th>dayofweek_start</th>\n",
       "      <th>month_start</th>\n",
       "      <th>day_end</th>\n",
       "      <th>dayofweek_end</th>\n",
       "      <th>month_end</th>\n",
       "    </tr>\n",
       "  </thead>\n",
       "  <tbody>\n",
       "    <tr>\n",
       "      <td>0</td>\n",
       "      <td>80110</td>\n",
       "      <td>2017-12-31 16:57:39.654</td>\n",
       "      <td>2018-01-01 15:12:50.245</td>\n",
       "      <td>74</td>\n",
       "      <td>Laguna St at Hayes St</td>\n",
       "      <td>37.776435</td>\n",
       "      <td>-122.426244</td>\n",
       "      <td>43</td>\n",
       "      <td>San Francisco Public Library (Grove St at Hyde...</td>\n",
       "      <td>37.778768</td>\n",
       "      <td>...</td>\n",
       "      <td>96</td>\n",
       "      <td>Customer</td>\n",
       "      <td>1987.0</td>\n",
       "      <td>Male</td>\n",
       "      <td>31</td>\n",
       "      <td>6</td>\n",
       "      <td>12</td>\n",
       "      <td>1</td>\n",
       "      <td>0</td>\n",
       "      <td>1</td>\n",
       "    </tr>\n",
       "    <tr>\n",
       "      <td>1</td>\n",
       "      <td>78800</td>\n",
       "      <td>2017-12-31 15:56:34.842</td>\n",
       "      <td>2018-01-01 13:49:55.617</td>\n",
       "      <td>284</td>\n",
       "      <td>Yerba Buena Center for the Arts (Howard St at ...</td>\n",
       "      <td>37.784872</td>\n",
       "      <td>-122.400876</td>\n",
       "      <td>96</td>\n",
       "      <td>Dolores St at 15th St</td>\n",
       "      <td>37.766210</td>\n",
       "      <td>...</td>\n",
       "      <td>88</td>\n",
       "      <td>Customer</td>\n",
       "      <td>1965.0</td>\n",
       "      <td>Female</td>\n",
       "      <td>31</td>\n",
       "      <td>6</td>\n",
       "      <td>12</td>\n",
       "      <td>1</td>\n",
       "      <td>0</td>\n",
       "      <td>1</td>\n",
       "    </tr>\n",
       "    <tr>\n",
       "      <td>2</td>\n",
       "      <td>45768</td>\n",
       "      <td>2017-12-31 22:45:48.411</td>\n",
       "      <td>2018-01-01 11:28:36.883</td>\n",
       "      <td>245</td>\n",
       "      <td>Downtown Berkeley BART</td>\n",
       "      <td>37.870348</td>\n",
       "      <td>-122.267764</td>\n",
       "      <td>245</td>\n",
       "      <td>Downtown Berkeley BART</td>\n",
       "      <td>37.870348</td>\n",
       "      <td>...</td>\n",
       "      <td>1094</td>\n",
       "      <td>Customer</td>\n",
       "      <td>NaN</td>\n",
       "      <td>NaN</td>\n",
       "      <td>31</td>\n",
       "      <td>6</td>\n",
       "      <td>12</td>\n",
       "      <td>1</td>\n",
       "      <td>0</td>\n",
       "      <td>1</td>\n",
       "    </tr>\n",
       "    <tr>\n",
       "      <td>3</td>\n",
       "      <td>62172</td>\n",
       "      <td>2017-12-31 17:31:10.636</td>\n",
       "      <td>2018-01-01 10:47:23.531</td>\n",
       "      <td>60</td>\n",
       "      <td>8th St at Ringold St</td>\n",
       "      <td>37.774520</td>\n",
       "      <td>-122.409449</td>\n",
       "      <td>5</td>\n",
       "      <td>Powell St BART Station (Market St at 5th St)</td>\n",
       "      <td>37.783899</td>\n",
       "      <td>...</td>\n",
       "      <td>2831</td>\n",
       "      <td>Customer</td>\n",
       "      <td>NaN</td>\n",
       "      <td>NaN</td>\n",
       "      <td>31</td>\n",
       "      <td>6</td>\n",
       "      <td>12</td>\n",
       "      <td>1</td>\n",
       "      <td>0</td>\n",
       "      <td>1</td>\n",
       "    </tr>\n",
       "    <tr>\n",
       "      <td>4</td>\n",
       "      <td>43603</td>\n",
       "      <td>2017-12-31 14:23:14.001</td>\n",
       "      <td>2018-01-01 02:29:57.571</td>\n",
       "      <td>239</td>\n",
       "      <td>Bancroft Way at Telegraph Ave</td>\n",
       "      <td>37.868813</td>\n",
       "      <td>-122.258764</td>\n",
       "      <td>247</td>\n",
       "      <td>Fulton St at Bancroft Way</td>\n",
       "      <td>37.867789</td>\n",
       "      <td>...</td>\n",
       "      <td>3167</td>\n",
       "      <td>Subscriber</td>\n",
       "      <td>1997.0</td>\n",
       "      <td>Female</td>\n",
       "      <td>31</td>\n",
       "      <td>6</td>\n",
       "      <td>12</td>\n",
       "      <td>1</td>\n",
       "      <td>0</td>\n",
       "      <td>1</td>\n",
       "    </tr>\n",
       "  </tbody>\n",
       "</table>\n",
       "<p>5 rows × 21 columns</p>\n",
       "</div>"
      ],
      "text/plain": [
       "   duration_sec              start_time                end_time  \\\n",
       "0         80110 2017-12-31 16:57:39.654 2018-01-01 15:12:50.245   \n",
       "1         78800 2017-12-31 15:56:34.842 2018-01-01 13:49:55.617   \n",
       "2         45768 2017-12-31 22:45:48.411 2018-01-01 11:28:36.883   \n",
       "3         62172 2017-12-31 17:31:10.636 2018-01-01 10:47:23.531   \n",
       "4         43603 2017-12-31 14:23:14.001 2018-01-01 02:29:57.571   \n",
       "\n",
       "   start_station_id                                 start_station_name  \\\n",
       "0                74                              Laguna St at Hayes St   \n",
       "1               284  Yerba Buena Center for the Arts (Howard St at ...   \n",
       "2               245                             Downtown Berkeley BART   \n",
       "3                60                               8th St at Ringold St   \n",
       "4               239                      Bancroft Way at Telegraph Ave   \n",
       "\n",
       "   start_station_latitude  start_station_longitude  end_station_id  \\\n",
       "0               37.776435              -122.426244              43   \n",
       "1               37.784872              -122.400876              96   \n",
       "2               37.870348              -122.267764             245   \n",
       "3               37.774520              -122.409449               5   \n",
       "4               37.868813              -122.258764             247   \n",
       "\n",
       "                                    end_station_name  end_station_latitude  \\\n",
       "0  San Francisco Public Library (Grove St at Hyde...             37.778768   \n",
       "1                              Dolores St at 15th St             37.766210   \n",
       "2                             Downtown Berkeley BART             37.870348   \n",
       "3       Powell St BART Station (Market St at 5th St)             37.783899   \n",
       "4                          Fulton St at Bancroft Way             37.867789   \n",
       "\n",
       "   ...  bike_id   user_type member_birth_year  member_gender day_start  \\\n",
       "0  ...       96    Customer            1987.0           Male        31   \n",
       "1  ...       88    Customer            1965.0         Female        31   \n",
       "2  ...     1094    Customer               NaN            NaN        31   \n",
       "3  ...     2831    Customer               NaN            NaN        31   \n",
       "4  ...     3167  Subscriber            1997.0         Female        31   \n",
       "\n",
       "   dayofweek_start  month_start  day_end  dayofweek_end  month_end  \n",
       "0                6           12        1              0          1  \n",
       "1                6           12        1              0          1  \n",
       "2                6           12        1              0          1  \n",
       "3                6           12        1              0          1  \n",
       "4                6           12        1              0          1  \n",
       "\n",
       "[5 rows x 21 columns]"
      ]
     },
     "execution_count": 22,
     "metadata": {},
     "output_type": "execute_result"
    }
   ],
   "source": [
    "df.head()"
   ]
  },
  {
   "cell_type": "markdown",
   "metadata": {},
   "source": [
    "#### 3. Transforming day of week and ordenating them"
   ]
  },
  {
   "cell_type": "code",
   "execution_count": 23,
   "metadata": {
    "ExecuteTime": {
     "end_time": "2019-09-03T19:34:49.177415Z",
     "start_time": "2019-09-03T19:34:48.957463Z"
    },
    "scrolled": true
   },
   "outputs": [
    {
     "data": {
      "text/plain": [
       "1    87865\n",
       "2    87752\n",
       "3    85243\n",
       "0    81410\n",
       "4    81165\n",
       "5    50874\n",
       "6    45391\n",
       "Name: dayofweek_start, dtype: int64"
      ]
     },
     "execution_count": 23,
     "metadata": {},
     "output_type": "execute_result"
    }
   ],
   "source": [
    "#--The day of the week with Monday=0, Sunday=6.\n",
    "df.dayofweek_start.value_counts()"
   ]
  },
  {
   "cell_type": "code",
   "execution_count": 24,
   "metadata": {
    "ExecuteTime": {
     "end_time": "2019-09-03T19:34:49.328007Z",
     "start_time": "2019-09-03T19:34:49.185392Z"
    }
   },
   "outputs": [],
   "source": [
    "mapper = {0:'Monday', 1:'Tuesday', 2:'Wednesday', 3:'Thursday', 4:'Friday', 5:'Saturday', 6:'Sunday'}\n",
    "\n",
    "df['dayofweek_start'] = df['dayofweek_start'].map(mapper)\n",
    "df['dayofweek_end'] = df['dayofweek_end'].map(mapper)"
   ]
  },
  {
   "cell_type": "code",
   "execution_count": 25,
   "metadata": {
    "ExecuteTime": {
     "end_time": "2019-09-03T19:34:49.487892Z",
     "start_time": "2019-09-03T19:34:49.329005Z"
    }
   },
   "outputs": [
    {
     "name": "stdout",
     "output_type": "stream",
     "text": [
      "['Sunday' 'Saturday' 'Friday' 'Thursday' 'Wednesday' 'Tuesday' 'Monday']\n",
      "['Monday' 'Sunday' 'Saturday' 'Friday' 'Thursday' 'Wednesday' 'Tuesday']\n"
     ]
    }
   ],
   "source": [
    "print(df.dayofweek_start.unique())\n",
    "\n",
    "print(df.dayofweek_end.unique())"
   ]
  },
  {
   "cell_type": "code",
   "execution_count": 26,
   "metadata": {
    "ExecuteTime": {
     "end_time": "2019-09-03T19:34:49.546998Z",
     "start_time": "2019-09-03T19:34:49.488888Z"
    }
   },
   "outputs": [],
   "source": [
    "week_order = ['Monday','Tuesday','Wednesday','Thursday','Friday','Saturday','Sunday']\n",
    "ordered_cat = pd.api.types.CategoricalDtype(ordered= True, categories = week_order)\n",
    "df['dayofweek_start'] = df['dayofweek_start'].astype(ordered_cat)"
   ]
  },
  {
   "cell_type": "code",
   "execution_count": 27,
   "metadata": {
    "ExecuteTime": {
     "end_time": "2019-09-03T19:34:49.662652Z",
     "start_time": "2019-09-03T19:34:49.547689Z"
    }
   },
   "outputs": [],
   "source": [
    "week_order = ['Monday','Tuesday','Wednesday','Thursday','Friday','Saturday','Sunday']\n",
    "ordered_cat = pd.api.types.CategoricalDtype(ordered= True, categories = week_order)\n",
    "df['dayofweek_end'] = df['dayofweek_end'].astype(ordered_cat)"
   ]
  },
  {
   "cell_type": "markdown",
   "metadata": {},
   "source": [
    "#### 4. From `durantion_sec` create a new column named `duration_min`(duration in minutes)"
   ]
  },
  {
   "cell_type": "code",
   "execution_count": 28,
   "metadata": {
    "ExecuteTime": {
     "end_time": "2019-09-03T19:34:49.778240Z",
     "start_time": "2019-09-03T19:34:49.663653Z"
    }
   },
   "outputs": [],
   "source": [
    "df['duration_min'] = df['duration_sec']/60"
   ]
  },
  {
   "cell_type": "code",
   "execution_count": 29,
   "metadata": {
    "ExecuteTime": {
     "end_time": "2019-09-03T19:34:49.885953Z",
     "start_time": "2019-09-03T19:34:49.780235Z"
    }
   },
   "outputs": [
    {
     "data": {
      "text/plain": [
       "count    519700.000000\n",
       "mean         18.316825\n",
       "std          57.402441\n",
       "min           1.016667\n",
       "25%           6.366667\n",
       "50%           9.933333\n",
       "75%          15.633333\n",
       "max        1439.483333\n",
       "Name: duration_min, dtype: float64"
      ]
     },
     "execution_count": 29,
     "metadata": {},
     "output_type": "execute_result"
    }
   ],
   "source": [
    "df.duration_min.describe()"
   ]
  },
  {
   "cell_type": "markdown",
   "metadata": {},
   "source": [
    "#### 5. Null values in `member_gender` and `member_birth_year` (and treat some wrong data)"
   ]
  },
  {
   "cell_type": "code",
   "execution_count": 30,
   "metadata": {
    "ExecuteTime": {
     "end_time": "2019-09-03T19:34:50.040585Z",
     "start_time": "2019-09-03T19:34:49.886950Z"
    }
   },
   "outputs": [
    {
     "data": {
      "text/plain": [
       "Customer      61735\n",
       "Subscriber     4727\n",
       "Name: user_type, dtype: int64"
      ]
     },
     "execution_count": 30,
     "metadata": {},
     "output_type": "execute_result"
    }
   ],
   "source": [
    "df[df['member_gender'].isnull()].user_type.value_counts()"
   ]
  },
  {
   "cell_type": "code",
   "execution_count": 31,
   "metadata": {
    "ExecuteTime": {
     "end_time": "2019-09-03T19:34:50.128303Z",
     "start_time": "2019-09-03T19:34:50.041536Z"
    }
   },
   "outputs": [
    {
     "data": {
      "text/plain": [
       "Customer      61735\n",
       "Subscriber     4806\n",
       "Name: user_type, dtype: int64"
      ]
     },
     "execution_count": 31,
     "metadata": {},
     "output_type": "execute_result"
    }
   ],
   "source": [
    "df[df['member_birth_year'].isnull()].user_type.value_counts()"
   ]
  },
  {
   "cell_type": "markdown",
   "metadata": {},
   "source": [
    "As gender and members birth year won't be the focus of this analysis and as most null values concentrate on customer type, dropping the null values could bias the analysis. And in the business context, it makes sense that customers don't have filled in all the form to single ride. So, I'll ignore these null values and proceed with the analysis."
   ]
  },
  {
   "cell_type": "code",
   "execution_count": 32,
   "metadata": {
    "ExecuteTime": {
     "end_time": "2019-09-03T19:35:02.532552Z",
     "start_time": "2019-09-03T19:34:50.129301Z"
    }
   },
   "outputs": [],
   "source": [
    "#-- I'll make a copy of the clean dataset in order to open in the slide show\n",
    "\n",
    "df.to_csv('clean_baywheel.csv', index = False)"
   ]
  },
  {
   "cell_type": "markdown",
   "metadata": {},
   "source": [
    "### Section Conclusion\n",
    "\n",
    "> Finishing the first part of assessing and cleaning data, it's clear that we are on the right track to our goal. Until now the main features for our investigation are the duration of ride types, day of the week (both starting and ending) and user type. \n"
   ]
  },
  {
   "cell_type": "markdown",
   "metadata": {},
   "source": [
    "## Univariate Exploration\n",
    "\n"
   ]
  },
  {
   "cell_type": "markdown",
   "metadata": {},
   "source": [
    "### 1. When are most trips taken in terms of day of week?\n",
    "\n",
    "Let's start with our first question, in this first plot we'll see the differences between number of rides by weekday"
   ]
  },
  {
   "cell_type": "code",
   "execution_count": 51,
   "metadata": {
    "ExecuteTime": {
     "end_time": "2019-09-03T19:36:03.734019Z",
     "start_time": "2019-09-03T19:36:03.725043Z"
    }
   },
   "outputs": [
    {
     "data": {
      "text/plain": [
       "<Figure size 1058.4x595.44 with 0 Axes>"
      ]
     },
     "execution_count": 51,
     "metadata": {},
     "output_type": "execute_result"
    },
    {
     "data": {
      "text/plain": [
       "<Figure size 1058.4x595.44 with 0 Axes>"
      ]
     },
     "metadata": {},
     "output_type": "display_data"
    }
   ],
   "source": [
    "#--Set the same image size for all graphs\n",
    "plt.figure(figsize=[14.70, 8.27])"
   ]
  },
  {
   "cell_type": "code",
   "execution_count": 57,
   "metadata": {
    "ExecuteTime": {
     "end_time": "2019-09-03T19:38:44.297709Z",
     "start_time": "2019-09-03T19:38:44.090225Z"
    }
   },
   "outputs": [
    {
     "data": {
      "text/plain": [
       "Text(0, 0.5, 'Count')"
      ]
     },
     "execution_count": 57,
     "metadata": {},
     "output_type": "execute_result"
    },
    {
     "data": {
      "image/png": "[encoded data removed]",
      "text/plain": [
       "<Figure size 1058.4x595.44 with 1 Axes>"
      ]
     },
     "metadata": {
      "needs_background": "light"
     },
     "output_type": "display_data"
    }
   ],
   "source": [
    "plt.figure(figsize=[14.70, 8.27])\n",
    "base_color = sb.color_palette()[1]\n",
    "\n",
    "#--Defining the graph\n",
    "sb.countplot(data = df, x='dayofweek_start', color = base_color)\n",
    "\n",
    "\n",
    "n_points = df.shape[0]\n",
    "cat_counts = df['dayofweek_start'].value_counts()\n",
    "locs, labels = plt.xticks(rotation = 45)\n",
    "\n",
    "#--Setting the percentage\n",
    "for loc, label in zip(locs, labels):\n",
    "    count = cat_counts[label.get_text()]\n",
    "    pct_string = '{:0.1f}%'.format(100*count/n_points)\n",
    "    \n",
    "    plt.text(loc, count-8, pct_string, ha = 'center', va='top', color = 'w', weight = 'heavy')\n",
    "    \n",
    "# Add title and format it\n",
    "plt.title('Numer of rides by weekday'.title(),\n",
    "               fontsize = 14, weight = \"bold\")\n",
    "# Add x label and format it\n",
    "plt.xlabel('Day'.title(),\n",
    "               fontsize = 12, weight = \"bold\")\n",
    "# Add y label and format it\n",
    "plt.ylabel('Count'.title(),\n",
    "               fontsize = 12, weight = \"bold\")"
   ]
  },
  {
   "cell_type": "markdown",
   "metadata": {},
   "source": [
    "This graph makes show us that the weekdays that have more rides are: Tuesday, Wednesday and Thursday. What has had surprised me was the number of rides on weekends.  I thought that most of the rides were made on weekends when people had more time to enjoy their free time. Two things come up:  maybe people stay more time with bicycles on the weekend than on weekdays because they use it for leisure time and on the weekdays they use it for transportation, more quickly and in a functional way. So it can be a different habit by day use. By now we have answered our first question, but new's ones has come up!\n",
    "\n",
    "> Next steps - investigate the average use duration on the weekend vs weekdays."
   ]
  },
  {
   "cell_type": "markdown",
   "metadata": {},
   "source": [
    "### Checking the dataset main features"
   ]
  },
  {
   "cell_type": "markdown",
   "metadata": {},
   "source": [
    "In the next visualizations we'll be looking deeper into the features, trying to make a baseline for futher investigations. In this part we are using only univariate exploration, so we'll be analyzing feature by feature."
   ]
  },
  {
   "cell_type": "code",
   "execution_count": 58,
   "metadata": {
    "ExecuteTime": {
     "end_time": "2019-09-03T19:38:49.463287Z",
     "start_time": "2019-09-03T19:38:49.256801Z"
    }
   },
   "outputs": [
    {
     "data": {
      "image/png": "[encoded data removed]",
      "text/plain": [
       "<Figure size 1058.4x595.44 with 1 Axes>"
      ]
     },
     "metadata": {
      "needs_background": "light"
     },
     "output_type": "display_data"
    }
   ],
   "source": [
    "plt.figure(figsize=[14.70, 8.27])\n",
    "#--Defining the graph\n",
    "sb.countplot(data = df, x='user_type');\n",
    "plt.title(\"Distribuition of user type\")\n",
    "plt.xlabel(\"User type\")\n",
    "plt.ylabel(\"Count\");"
   ]
  },
  {
   "cell_type": "markdown",
   "metadata": {},
   "source": [
    "> Majority of subscribers."
   ]
  },
  {
   "cell_type": "code",
   "execution_count": 54,
   "metadata": {
    "ExecuteTime": {
     "end_time": "2019-09-03T19:36:08.180106Z",
     "start_time": "2019-09-03T19:36:08.153178Z"
    },
    "scrolled": true
   },
   "outputs": [
    {
     "data": {
      "text/plain": [
       "count    5.715753\n",
       "mean     1.262850\n",
       "std      1.758930\n",
       "min      0.007179\n",
       "25%      0.803912\n",
       "50%      0.997095\n",
       "75%      1.194052\n",
       "max      3.158207\n",
       "Name: duration_min, dtype: float64"
      ]
     },
     "execution_count": 54,
     "metadata": {},
     "output_type": "execute_result"
    }
   ],
   "source": [
    "#--Looking for log informatiton to scale (duration) in the next graph\n",
    "np.log10(df.duration_min.describe())"
   ]
  },
  {
   "cell_type": "code",
   "execution_count": 59,
   "metadata": {
    "ExecuteTime": {
     "end_time": "2019-09-03T19:38:54.835959Z",
     "start_time": "2019-09-03T19:38:54.452939Z"
    },
    "scrolled": false
   },
   "outputs": [
    {
     "data": {
      "text/plain": [
       "Text(0, 0.5, 'Count Of Rides')"
      ]
     },
     "execution_count": 59,
     "metadata": {},
     "output_type": "execute_result"
    },
    {
     "data": {
      "image/png": "[encoded data removed]",
      "text/plain": [
       "<Figure size 1058.4x595.44 with 1 Axes>"
      ]
     },
     "metadata": {
      "needs_background": "light"
     },
     "output_type": "display_data"
    }
   ],
   "source": [
    "#--Plotting a distribuition with log scale x ticks\n",
    "plt.figure(figsize=[14.70, 8.27])\n",
    "bins = 10 ** np.arange(0,3.15+0.1,0.1)\n",
    "ticks = [0.1,0.3,1,3,7,10,15,30,100,300,1000]\n",
    "labels = ['{}'.format(v) for v in ticks]\n",
    "\n",
    "plt.hist(data = df, x = 'duration_min', bins = bins);\n",
    "plt.xscale('log')\n",
    "plt.xticks(ticks, labels);\n",
    "\n",
    "# Add title and format it\n",
    "plt.title(\"Distribuition of ride's duration\".title(),\n",
    "               fontsize = 14, weight = \"bold\")\n",
    "# Add x label and format it\n",
    "plt.xlabel('Duration (min)'.title(),\n",
    "               fontsize = 12, weight = \"bold\")\n",
    "# Add y label and format it\n",
    "plt.ylabel('Count of rides'.title(),\n",
    "               fontsize = 12, weight = \"bold\")"
   ]
  },
  {
   "cell_type": "markdown",
   "metadata": {},
   "source": [
    "> This visualization shows that the most of rides has a duration in a range of 5 to 20 minutes. It's unimodal graph. As the ride's duration time is wide: we have rides duration from seconds to almost a day long, we scaled it in order to have a better look in the distribuition of the rides."
   ]
  },
  {
   "cell_type": "markdown",
   "metadata": {},
   "source": [
    "## Bivariate Exploration\n"
   ]
  },
  {
   "cell_type": "markdown",
   "metadata": {},
   "source": [
    "Now, performing a bivariate exploration we'll be able to seek for some relationship between are the features and find some anwsers to our questions.\n",
    "\n",
    "In this first graph, there is the relation between ride's duration and weekdays, as well the answer for the second question:"
   ]
  },
  {
   "cell_type": "markdown",
   "metadata": {},
   "source": [
    "### 2. How long does the average trips takes? Does it changes over the weekday?"
   ]
  },
  {
   "cell_type": "code",
   "execution_count": 61,
   "metadata": {
    "ExecuteTime": {
     "end_time": "2019-09-03T19:41:41.676085Z",
     "start_time": "2019-09-03T19:41:41.502629Z"
    },
    "scrolled": false
   },
   "outputs": [
    {
     "data": {
      "image/png": "[encoded data removed]",
      "text/plain": [
       "<Figure size 1058.4x595.44 with 1 Axes>"
      ]
     },
     "metadata": {
      "needs_background": "light"
     },
     "output_type": "display_data"
    }
   ],
   "source": [
    "plt.figure(figsize=[14.70, 8.27])\n",
    "\n",
    "base_color = sb.color_palette()[1]\n",
    "df.groupby('dayofweek_start')['duration_min'].mean().plot(kind = \"bar\", color = base_color);\n",
    "\n",
    "# Add title and format it\n",
    "plt.title(\"Average ride duration by weekday\".title(),\n",
    "               fontsize = 14, weight = \"bold\")\n",
    "# Add x label and format it\n",
    "plt.xlabel('Day'.title(),\n",
    "               fontsize = 12, weight = \"bold\")\n",
    "# Add y label and format it\n",
    "plt.ylabel('Average ride duration (min)'.title(),\n",
    "               fontsize = 12, weight = \"bold\");"
   ]
  },
  {
   "cell_type": "code",
   "execution_count": 39,
   "metadata": {
    "ExecuteTime": {
     "end_time": "2019-09-03T19:35:03.805310Z",
     "start_time": "2019-09-03T19:35:03.769283Z"
    },
    "scrolled": true
   },
   "outputs": [
    {
     "name": "stdout",
     "output_type": "stream",
     "text": [
      "dayofweek_start\n",
      "Monday       16.135181\n",
      "Tuesday      15.567019\n",
      "Wednesday    15.294549\n",
      "Thursday     16.259663\n",
      "Friday       17.278022\n",
      "Saturday     26.976056\n",
      "Sunday       29.410955\n",
      "Name: duration_min, dtype: float64\n"
     ]
    }
   ],
   "source": [
    "#--Average of ride's duration by weekday\n",
    "print(df.groupby('dayofweek_start')['duration_min'].mean())"
   ]
  },
  {
   "cell_type": "markdown",
   "metadata": {},
   "source": [
    "#### Violin Visualization"
   ]
  },
  {
   "cell_type": "code",
   "execution_count": 40,
   "metadata": {
    "ExecuteTime": {
     "end_time": "2019-09-03T19:35:04.028372Z",
     "start_time": "2019-09-03T19:35:03.806343Z"
    }
   },
   "outputs": [],
   "source": [
    "#--As the duration time of rides are widely, I choose to do these two subcut in the df \n",
    "#--in order to have a better visualization\n",
    "\n",
    "df_durationsub_100 = df.loc[df['duration_min'] <= 100]\n",
    "df_durationsub_45 = df.loc[df['duration_min'] <= 45]"
   ]
  },
  {
   "cell_type": "code",
   "execution_count": 73,
   "metadata": {
    "ExecuteTime": {
     "end_time": "2019-09-03T19:58:19.313418Z",
     "start_time": "2019-09-03T19:58:16.987626Z"
    }
   },
   "outputs": [
    {
     "name": "stderr",
     "output_type": "stream",
     "text": [
      "C:\\Users\\naomi\\Anaconda3\\lib\\site-packages\\scipy\\stats\\stats.py:1713: FutureWarning: Using a non-tuple sequence for multidimensional indexing is deprecated; use `arr[tuple(seq)]` instead of `arr[seq]`. In the future this will be interpreted as an array index, `arr[np.array(seq)]`, which will result either in an error or a different result.\n",
      "  return np.add.reduce(sorted[indexer] * weights, axis=axis) / sumval\n"
     ]
    },
    {
     "data": {
      "image/png": "[encoded data removed]",
      "text/plain": [
       "<Figure size 1058.4x595.44 with 1 Axes>"
      ]
     },
     "metadata": {
      "needs_background": "light"
     },
     "output_type": "display_data"
    }
   ],
   "source": [
    "plt.figure(figsize=[14.70, 8.27])\n",
    "base_color = sb.color_palette()[1]\n",
    "\n",
    "#--Plotting the graph\n",
    "sb.violinplot(data = df_durationsub_45, x = 'dayofweek_start', y = 'duration_min',\n",
    "              color = base_color);\n",
    "\n",
    "# Add title and format it\n",
    "plt.title(\"Distribuition of ride's duration by weekday\".title(),\n",
    "               fontsize = 14, weight = \"bold\")\n",
    "# Add x label and format it\n",
    "plt.xlabel('Day'.title(),\n",
    "               fontsize = 12, weight = \"bold\")\n",
    "# Add y label and format it\n",
    "plt.ylabel('Duration of rides (min)'.title(),\n",
    "               fontsize = 12, weight = \"bold\");"
   ]
  },
  {
   "cell_type": "markdown",
   "metadata": {},
   "source": [
    "#### BoxPlot Visualization"
   ]
  },
  {
   "cell_type": "code",
   "execution_count": 72,
   "metadata": {
    "ExecuteTime": {
     "end_time": "2019-09-03T19:58:09.858545Z",
     "start_time": "2019-09-03T19:58:09.551245Z"
    }
   },
   "outputs": [
    {
     "data": {
      "image/png": "[encoded data removed]",
      "text/plain": [
       "<Figure size 1058.4x595.44 with 1 Axes>"
      ]
     },
     "metadata": {
      "needs_background": "light"
     },
     "output_type": "display_data"
    }
   ],
   "source": [
    "plt.figure(figsize=[14.70, 8.27])\n",
    "\n",
    "base_color = sb.color_palette()[1]\n",
    "\n",
    "sb.boxplot(data = df_durationsub_45, x = 'dayofweek_start', y = 'duration_min',\n",
    "              color = base_color);\n",
    "\n",
    "# Add title and format it\n",
    "plt.title(\"Distribuition of ride's duration by weekday\".title(),\n",
    "               fontsize = 14, weight = \"bold\")\n",
    "# Add x label and format it\n",
    "plt.xlabel('Day'.title(),\n",
    "               fontsize = 12, weight = \"bold\")\n",
    "# Add y label and format it\n",
    "plt.ylabel('Duration of rides (min)'.title(),\n",
    "               fontsize = 12, weight = \"bold\");"
   ]
  },
  {
   "cell_type": "markdown",
   "metadata": {
    "ExecuteTime": {
     "end_time": "2019-09-03T16:06:51.163025Z",
     "start_time": "2019-09-03T16:06:51.156042Z"
    }
   },
   "source": [
    "We were right!! The ride's duration on the weekend is significantly larger than on weekdays. We can see that on weekdays the average duration is almost the same 15 to 17 minutes but on Saturday or Sunday, it rises for more than 26 minutes. \n",
    "So, ride's duration has a connection if the day is a week or a weekend. Next steps would be: does the type of user related to this? \n",
    "Which happens to be our third question."
   ]
  },
  {
   "cell_type": "markdown",
   "metadata": {},
   "source": [
    "### 3. Does the above depend on if a user is a subscriber or a customer?\n",
    "### Do they have a different habit behaviour?"
   ]
  },
  {
   "cell_type": "code",
   "execution_count": 74,
   "metadata": {
    "ExecuteTime": {
     "end_time": "2019-09-03T19:58:35.401583Z",
     "start_time": "2019-09-03T19:58:35.124363Z"
    }
   },
   "outputs": [
    {
     "data": {
      "image/png": "[encoded data removed]",
      "text/plain": [
       "<Figure size 1058.4x595.44 with 1 Axes>"
      ]
     },
     "metadata": {
      "needs_background": "light"
     },
     "output_type": "display_data"
    }
   ],
   "source": [
    "plt.figure(figsize=[14.70, 8.27])\n",
    "\n",
    "sb.countplot(data = df, y='dayofweek_start', hue = 'user_type');\n",
    "\n",
    "\n",
    "# Add title and format it\n",
    "plt.title(\"Number of user type by weekday\".title(),\n",
    "               fontsize = 14, weight = \"bold\")\n",
    "# Add x label and format it\n",
    "plt.xlabel('Number of rides'.title(),\n",
    "               fontsize = 12, weight = \"bold\")\n",
    "# Add y label and format it\n",
    "plt.ylabel('Day'.title(),\n",
    "               fontsize = 12, weight = \"bold\")\n",
    "\n",
    "plt.legend(loc='center left', bbox_to_anchor=(1, 0.5),\n",
    "           title=\"User Type\", title_fontsize = 12);"
   ]
  },
  {
   "cell_type": "code",
   "execution_count": 44,
   "metadata": {
    "ExecuteTime": {
     "end_time": "2019-09-03T19:35:07.032336Z",
     "start_time": "2019-09-03T19:35:06.963522Z"
    }
   },
   "outputs": [
    {
     "name": "stdout",
     "output_type": "stream",
     "text": [
      "user_type   dayofweek_start\n",
      "Customer    Monday             41.814485\n",
      "            Tuesday            39.144952\n",
      "            Wednesday          38.327595\n",
      "            Thursday           40.209360\n",
      "            Friday             40.039432\n",
      "            Saturday           44.581283\n",
      "            Sunday             49.738875\n",
      "Subscriber  Monday             11.341740\n",
      "            Tuesday            11.569680\n",
      "            Wednesday          11.314927\n",
      "            Thursday           11.624314\n",
      "            Friday             11.667631\n",
      "            Saturday           13.318471\n",
      "            Sunday             13.540184\n",
      "Name: duration_min, dtype: float64\n"
     ]
    }
   ],
   "source": [
    "#--Average ride's duration by weekday and user\n",
    "print(df.groupby(by = ['user_type','dayofweek_start'])['duration_min'].mean())"
   ]
  },
  {
   "cell_type": "markdown",
   "metadata": {},
   "source": [
    "On this visualization, it is possible to observe that subscribers ride more on weekdays than on the weekend and customers ride more on the weekend, which can indicate that subscribers have different behaviour than consumers.\n",
    "On the table, it's possible to affirm that the average of rides duration it's significantly different for subscribers and costumers."
   ]
  },
  {
   "cell_type": "code",
   "execution_count": 69,
   "metadata": {
    "ExecuteTime": {
     "end_time": "2019-09-03T19:53:11.372025Z",
     "start_time": "2019-09-03T19:53:04.622693Z"
    }
   },
   "outputs": [
    {
     "data": {
      "image/png": "[encoded data removed]",
      "text/plain": [
       "<Figure size 1058.4x595.44 with 1 Axes>"
      ]
     },
     "metadata": {
      "needs_background": "light"
     },
     "output_type": "display_data"
    }
   ],
   "source": [
    "plt.figure(figsize=[14.70, 8.27])\n",
    "\n",
    "base_color = sb.color_palette()[1]\n",
    "\n",
    "sb.violinplot(data = df_durationsub_100, x = 'user_type', y = 'duration_min',\n",
    "              color = base_color)\n",
    "\n",
    "# Add title and format it\n",
    "plt.title(\"Duration of Rides by User Type\".title(),\n",
    "               fontsize = 14, weight = \"bold\")\n",
    "# Add x label and format it\n",
    "plt.xlabel('User Type'.title(),\n",
    "               fontsize = 12, weight = \"bold\")\n",
    "# Add y label and format it\n",
    "plt.ylabel('Duration of rides (min)'.title(),\n",
    "               fontsize = 12, weight = \"bold\");"
   ]
  },
  {
   "cell_type": "markdown",
   "metadata": {
    "ExecuteTime": {
     "end_time": "2019-09-03T15:45:40.758225Z",
     "start_time": "2019-09-03T15:45:40.754227Z"
    }
   },
   "source": [
    "This visualization makes clear that subscribers and costumers have a significantly difference in ride's duration."
   ]
  },
  {
   "cell_type": "markdown",
   "metadata": {},
   "source": [
    " By this Bivariate Exploration, the questions made in the previous section found an answer. The rides on weekends are longer than on weekdays, the number of \"customer\" type of user increases significantly on the weekend and it has a ride's duration average longer than subscribers. For this reason, we are close to affirming with certainty that the type of user is defining which kind of habits its user has.  Now what is missing to prove that consumer and subscribers have a really different behaviour is a visualization which can demonstrate that relation exits or not."
   ]
  },
  {
   "cell_type": "markdown",
   "metadata": {},
   "source": [
    "> Before going on the analysis, these graphs below were attempts to understand or find out some pattern about the bike's stations. What I could conclude is that three major areas (geographically) concentrate all flow of bicycles and almost all every station in the top 20 more frequently stations, is a train, ferry or bus station. As I couldn't develop more about this topic I'll just drop from the presentation and leave it here for further investigation. "
   ]
  },
  {
   "cell_type": "code",
   "execution_count": 46,
   "metadata": {
    "ExecuteTime": {
     "end_time": "2019-09-03T19:35:15.102440Z",
     "start_time": "2019-09-03T19:35:14.753350Z"
    }
   },
   "outputs": [
    {
     "data": {
      "image/png": "[encoded data removed]",
      "text/plain": [
       "<Figure size 576x360 with 1 Axes>"
      ]
     },
     "metadata": {
      "needs_background": "light"
     },
     "output_type": "display_data"
    }
   ],
   "source": [
    "plt.figure(figsize=(8,5))\n",
    "base_color = sb.color_palette()[1]\n",
    "\n",
    "df['start_station_name'].value_counts().head(20).plot(kind='bar', color = base_color);"
   ]
  },
  {
   "cell_type": "code",
   "execution_count": 47,
   "metadata": {
    "ExecuteTime": {
     "end_time": "2019-09-03T19:35:17.731339Z",
     "start_time": "2019-09-03T19:35:15.103413Z"
    }
   },
   "outputs": [
    {
     "name": "stderr",
     "output_type": "stream",
     "text": [
      "C:\\Users\\naomi\\Anaconda3\\lib\\site-packages\\scipy\\stats\\stats.py:1713: FutureWarning: Using a non-tuple sequence for multidimensional indexing is deprecated; use `arr[tuple(seq)]` instead of `arr[seq]`. In the future this will be interpreted as an array index, `arr[np.array(seq)]`, which will result either in an error or a different result.\n",
      "  return np.add.reduce(sorted[indexer] * weights, axis=axis) / sumval\n"
     ]
    },
    {
     "data": {
      "image/png": "[encoded data removed]",
      "text/plain": [
       "<Figure size 576x576 with 1 Axes>"
      ]
     },
     "metadata": {
      "needs_background": "light"
     },
     "output_type": "display_data"
    }
   ],
   "source": [
    "plt.figure(figsize = (8,8))\n",
    "threshold = 5557 # Frequency of the 20th station \n",
    "make_frequency = df['start_station_name'].value_counts()\n",
    "idx = np.sum(make_frequency > threshold)\n",
    "\n",
    "most_makes = make_frequency.index[:idx]\n",
    "df_sub = df.loc[df['start_station_name'].isin(most_makes)]\n",
    "\n",
    "make_means = df_sub.groupby('start_station_name').mean()\n",
    "comb_order = make_means.sort_values('duration_min', ascending = False).index\n",
    "\n",
    "base_color = sb.color_palette()[0]\n",
    "sb.barplot(data = df_sub, x = 'duration_min', y = 'start_station_name', \n",
    "           color = base_color, order = comb_order)\n",
    "plt.xlabel(\"Duration's ride (min)\")\n",
    "plt.ylabel(\" \")\n",
    "\n",
    "plt.title(\"Average Combined Duration Rides\");"
   ]
  },
  {
   "cell_type": "code",
   "execution_count": 48,
   "metadata": {
    "ExecuteTime": {
     "end_time": "2019-09-03T19:35:32.433970Z",
     "start_time": "2019-09-03T19:35:17.732255Z"
    }
   },
   "outputs": [
    {
     "data": {
      "image/png": "[encoded data removed]",
      "text/plain": [
       "<Figure size 1440x576 with 2 Axes>"
      ]
     },
     "metadata": {
      "needs_background": "light"
     },
     "output_type": "display_data"
    }
   ],
   "source": [
    "#--Setting a scatter plot to observe geografic location\n",
    "_ = df.plot(kind = 'scatter', x = 'start_station_longitude', y = 'start_station_latitude', \n",
    "        c= 'duration_min', cmap = plt.get_cmap(\"jet\"), colorbar = True,\n",
    "        alpha = 0.4, figsize =(20,8));\n",
    "\n",
    "plt.xlabel(\"Start Station Longitude\")\n",
    "plt.show()"
   ]
  },
  {
   "cell_type": "markdown",
   "metadata": {},
   "source": [
    "## Multivariate Exploration"
   ]
  },
  {
   "cell_type": "markdown",
   "metadata": {},
   "source": [
    "On this last part of exploration, we'll be plotting relationship visualization attempting to finally verify the relation between the features: user type, weekday and duration of rides. In order to, trace the different behaviour habits to these two type of users."
   ]
  },
  {
   "cell_type": "code",
   "execution_count": 76,
   "metadata": {
    "ExecuteTime": {
     "end_time": "2019-09-03T20:02:31.783694Z",
     "start_time": "2019-09-03T20:02:27.756979Z"
    },
    "scrolled": false
   },
   "outputs": [
    {
     "data": {
      "image/png": "[encoded data removed]",
      "text/plain": [
       "<Figure size 1058.4x595.44 with 2 Axes>"
      ]
     },
     "metadata": {
      "needs_background": "light"
     },
     "output_type": "display_data"
    }
   ],
   "source": [
    "g = sb.FacetGrid(data = df_durationsub_45, col = 'user_type', height = 8.27, aspect = (14.70/2)/8.27)\n",
    "g.map(sb.boxplot, 'dayofweek_start', 'duration_min');\n",
    "\n",
    "plt.suptitle(\"Daily Trip Duration by User Type\", y = 1.04, fontsize = 14, weight = 'bold')\n",
    "\n",
    "g.set_axis_labels('Day', 'Duration (Min)');"
   ]
  },
  {
   "cell_type": "code",
   "execution_count": 92,
   "metadata": {
    "ExecuteTime": {
     "end_time": "2019-09-03T20:11:09.881030Z",
     "start_time": "2019-09-03T20:11:09.550082Z"
    }
   },
   "outputs": [
    {
     "data": {
      "image/png": "[encoded data removed]",
      "text/plain": [
       "<Figure size 1058.4x595.44 with 2 Axes>"
      ]
     },
     "metadata": {
      "needs_background": "light"
     },
     "output_type": "display_data"
    }
   ],
   "source": [
    "plt.figure(figsize=[14.70, 8.27])\n",
    "\n",
    "#--Calculating the average of ride's duration\n",
    "#--Transforming the data in a pivot table to plot the heatmap\n",
    "cat_means = df.groupby(['user_type','dayofweek_start']).mean()['duration_min']\n",
    "cat_means = cat_means.reset_index(name = 'duration_min_avg')\n",
    "cat_means = cat_means.pivot(index = 'dayofweek_start', columns = 'user_type', \n",
    "                            values = 'duration_min_avg')\n",
    "sb.heatmap(cat_means, annot = True, fmt = '.3f', \n",
    "           cbar_kws = {'label':'Average Rides Duration (min)'}, cmap = 'RdYlBu_r')\n",
    "\n",
    "\n",
    "# Add title and format it\n",
    "plt.title(\"Relationship between ride's duration, user type and weekday\".title(),\n",
    "               fontsize = 14, weight = \"bold\")\n",
    "# Add x label and format it\n",
    "plt.xlabel('User Type'.title(),\n",
    "               fontsize = 12, weight = \"bold\")\n",
    "# Add y label and format it\n",
    "plt.ylabel('Day'.title(),\n",
    "               fontsize = 12, weight = \"bold\");"
   ]
  },
  {
   "cell_type": "markdown",
   "metadata": {},
   "source": [
    "## Conclusion\n",
    "\n",
    "Finally, in this Multivariate Visualization, we could put together: user type, duration of rides and weekdays. And now it's possible to affirm that customer and subscribers have very different behaviour. Subscribers use the Bay Wheels more frequently and on a weekday, it's part of his mobility journey and rides are faster. As for customers, they use Bay Wheels's bikes on the weekend, stays more time with it and use it to enjoy their free time.\n",
    "\n",
    "So by analyzing this dataset, we were able to find out two very different groups of users, which have distinct behaviour and needs. Bay Wheels should understand both of their user types and base their strategical decisions to fully attend their needs. "
   ]
  }
 ],
 "metadata": {
  "kernelspec": {
   "display_name": "Python 3",
   "language": "python",
   "name": "python3"
  },
  "language_info": {
   "codemirror_mode": {
    "name": "ipython",
    "version": 3
   },
   "file_extension": ".py",
   "mimetype": "text/x-python",
   "name": "python",
   "nbconvert_exporter": "python",
   "pygments_lexer": "ipython3",
   "version": "3.7.4"
  },
  "toc": {
   "base_numbering": 1,
   "nav_menu": {},
   "number_sections": true,
   "sideBar": true,
   "skip_h1_title": false,
   "title_cell": "Table of Contents",
   "title_sidebar": "Contents",
   "toc_cell": false,
   "toc_position": {},
   "toc_section_display": true,
   "toc_window_display": false
  }
 },
 "nbformat": 4,
 "nbformat_minor": 2
}
